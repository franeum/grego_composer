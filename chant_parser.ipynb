{
 "cells": [
  {
   "cell_type": "code",
   "execution_count": 306,
   "metadata": {},
   "outputs": [],
   "source": [
    "import psycopg2\n",
    "import pandas as pd"
   ]
  },
  {
   "cell_type": "code",
   "execution_count": 307,
   "metadata": {},
   "outputs": [],
   "source": [
    "conn = psycopg2.connect(\"dbname=gregorian user=codex\")\n",
    "conn.set_client_encoding('UTF8')\n",
    "cursor = conn.cursor()"
   ]
  },
  {
   "cell_type": "code",
   "execution_count": 308,
   "metadata": {},
   "outputs": [],
   "source": [
    "# query\n",
    "\n",
    "'''cursor.execute(\"\"\"\n",
    "                SELECT gabc \n",
    "                FROM gregobase_chants \n",
    "                WHERE office_part LIKE \\'in\\'\n",
    "                LIMIT 5;\n",
    "               \"\"\")'''\n",
    "cursor.execute(\"\"\"\n",
    "                SELECT gabc \n",
    "                FROM gregobase_chants \n",
    "                LIMIT 5;\n",
    "               \"\"\")"
   ]
  },
  {
   "cell_type": "code",
   "execution_count": 322,
   "metadata": {},
   "outputs": [],
   "source": [
    "# get first chant\n",
    "\n",
    "txt = cursor.fetchone()"
   ]
  },
  {
   "cell_type": "code",
   "execution_count": 323,
   "metadata": {},
   "outputs": [],
   "source": [
    "chant = eval(txt[0])"
   ]
  },
  {
   "cell_type": "markdown",
   "metadata": {},
   "source": [
    "# FUNCTIONS"
   ]
  },
  {
   "cell_type": "code",
   "execution_count": 327,
   "metadata": {},
   "outputs": [],
   "source": [
    "import re\n",
    "        \n",
    "\n",
    "def find_all_groups(chant):\n",
    "    \"\"\"\n",
    "    find only neumes\n",
    "    \"\"\"\n",
    "    # esclude anche le chiavi\n",
    "    # pattern = re.compile('(\\([^\\(\\):;,0-9]*\\))')\n",
    "    pattern = re.compile('(\\([^\\(\\)]*\\)\\s*)')\n",
    "    allneumes = re.findall(pattern, chant)\n",
    "    #allneumes = [clean_neuma(neuma) for neuma in allneumes]\n",
    "    return allneumes\n",
    "\n",
    "def clean_neuma(neuma):\n",
    "    # elimina le parentesi tonde e riduce tutto in minuscolo\n",
    "    neuma = re.sub('[\\(|\\)]','', neuma).lower()\n",
    "    # elimina i seguenti caratteri: ~<>owvVsr._'!\n",
    "    neuma = re.sub('[~<>owvVsr._\\'!\\s/\\\\\\\\r\\\\\\\\n]','', neuma)\n",
    "    return neuma"
   ]
  },
  {
   "cell_type": "code",
   "execution_count": 330,
   "metadata": {},
   "outputs": [
    {
     "data": {
      "text/plain": [
       "\"(c4) (g)(gd) () (d)(e)(f)(gh)(h) (ghhg)(g.) (;) (g) (g)(hj)(jjj)(g) (high)(h.) (:) (gh)(j)(i)(jk) (k)(kj) (k)(g.) (hj)(j) (ijhhg.) (;) (g) (h)(gf)(gh)(h)(h!jj) (h_ghvG'F)(f.) (:) (f) (fg~)(g)(ghGF'h)(h) (h) (hih)(g.) (h)(j) (ikjj)(ji..) (;) (j) (jjk)(hg)(h) (gf)(gh)(h.) (,) (h)(h)(j.h!iw!jvIG'h)(g.) (egF'E)(e.) (::) (e)(f)(gh)(g.) (,) (gh)(g.h!iwjjvIH'G)(g_e/fgF'E)(e.) (::) (g)(hj)(j)(j)(j) (j)(j) (k)(j)(j) (ih)(jjj) (:) (ig~)(hj)(j)(j)(j) (j)(j) (jji)(hg)(h') (i)(gh..) (::) (g)(hj)(j) (j)(j) (::) (j) (jji) (hg) (h') (i) (gh..) (::)\""
      ]
     },
     "execution_count": 330,
     "metadata": {},
     "output_type": "execute_result"
    }
   ],
   "source": [
    "whole_chant = ''.join(find_all_groups(chant))\n",
    "whole_chant"
   ]
  },
  {
   "cell_type": "code",
   "execution_count": 347,
   "metadata": {},
   "outputs": [],
   "source": [
    "def periods(chant):\n",
    "    periods = []\n",
    "    pattern = re.compile('\\(::\\)')\n",
    "    #chant = re.findall(pattern, chant)\n",
    "    chant = re.split(pattern, chant)\n",
    "    chant = [c.strip(None) for c in chant if c != '']\n",
    "    return chant"
   ]
  },
  {
   "cell_type": "code",
   "execution_count": 348,
   "metadata": {},
   "outputs": [
    {
     "data": {
      "text/plain": [
       "[\"(c4) (g)(gd) () (d)(e)(f)(gh)(h) (ghhg)(g.) (;) (g) (g)(hj)(jjj)(g) (high)(h.) (:) (gh)(j)(i)(jk) (k)(kj) (k)(g.) (hj)(j) (ijhhg.) (;) (g) (h)(gf)(gh)(h)(h!jj) (h_ghvG'F)(f.) (:) (f) (fg~)(g)(ghGF'h)(h) (h) (hih)(g.) (h)(j) (ikjj)(ji..) (;) (j) (jjk)(hg)(h) (gf)(gh)(h.) (,) (h)(h)(j.h!iw!jvIG'h)(g.) (egF'E)(e.)\",\n",
       " \"(e)(f)(gh)(g.) (,) (gh)(g.h!iwjjvIH'G)(g_e/fgF'E)(e.)\",\n",
       " \"(g)(hj)(j)(j)(j) (j)(j) (k)(j)(j) (ih)(jjj) (:) (ig~)(hj)(j)(j)(j) (j)(j) (jji)(hg)(h') (i)(gh..)\",\n",
       " '(g)(hj)(j) (j)(j)',\n",
       " \"(j) (jji) (hg) (h') (i) (gh..)\"]"
      ]
     },
     "execution_count": 348,
     "metadata": {},
     "output_type": "execute_result"
    }
   ],
   "source": [
    "period = periods(whole_chant)\n",
    "period"
   ]
  },
  {
   "cell_type": "code",
   "execution_count": 339,
   "metadata": {},
   "outputs": [
    {
     "ename": "TypeError",
     "evalue": "index() takes at least 1 argument (0 given)",
     "output_type": "error",
     "traceback": [
      "\u001b[0;31m---------------------------------------------------------------------------\u001b[0m",
      "\u001b[0;31mTypeError\u001b[0m                                 Traceback (most recent call last)",
      "\u001b[0;32m<ipython-input-339-d3bbf517a810>\u001b[0m in \u001b[0;36m<module>\u001b[0;34m\u001b[0m\n\u001b[0;32m----> 1\u001b[0;31m \u001b[0mperiod\u001b[0m\u001b[0;34m.\u001b[0m\u001b[0mindex\u001b[0m\u001b[0;34m(\u001b[0m\u001b[0;34m)\u001b[0m\u001b[0;34m\u001b[0m\u001b[0;34m\u001b[0m\u001b[0m\n\u001b[0m",
      "\u001b[0;31mTypeError\u001b[0m: index() takes at least 1 argument (0 given)"
     ]
    }
   ],
   "source": [
    "period.index()"
   ]
  },
  {
   "cell_type": "code",
   "execution_count": 344,
   "metadata": {},
   "outputs": [],
   "source": [
    "a = ['qwe','ddd','']"
   ]
  },
  {
   "cell_type": "code",
   "execution_count": null,
   "metadata": {},
   "outputs": [],
   "source": []
  },
  {
   "cell_type": "code",
   "execution_count": 388,
   "metadata": {},
   "outputs": [
    {
     "data": {
      "text/plain": [
       "[4, 3, 5]"
      ]
     },
     "execution_count": 388,
     "metadata": {},
     "output_type": "execute_result"
    }
   ],
   "source": [
    "import networkx as nx\n",
    "\n",
    "DG = nx.DiGraph()\n",
    "DG.add_weighted_edges_from([(1, 4, 0), (1, 3, 0), (1,5,0)])\n",
    "list(DG.successors(1))"
   ]
  },
  {
   "cell_type": "code",
   "execution_count": 364,
   "metadata": {},
   "outputs": [
    {
     "data": {
      "text/plain": [
       "<matplotlib.axes._subplots.AxesSubplot at 0xa25ba8358>"
      ]
     },
     "execution_count": 364,
     "metadata": {},
     "output_type": "execute_result"
    },
    {
     "data": {
      "image/png": "[encoded data removed]",
      "text/plain": [
       "<Figure size 432x288 with 1 Axes>"
      ]
     },
     "metadata": {},
     "output_type": "display_data"
    }
   ],
   "source": [
    "import matplotlib.pyplot as plt\n",
    "nx.draw(DG, with_labels=True)\n",
    "plt.subplot()"
   ]
  },
  {
   "cell_type": "code",
   "execution_count": 366,
   "metadata": {},
   "outputs": [
    {
     "data": {
      "image/png": "[encoded data removed]",
      "text/plain": [
       "<Figure size 432x288 with 1 Axes>"
      ]
     },
     "metadata": {},
     "output_type": "display_data"
    }
   ],
   "source": [
    "nx.draw_shell(G, nlist=[range(5, 10), range(5)], with_labels=True, font_weight='bold')\n",
    "plt.show()"
   ]
  },
  {
   "cell_type": "code",
   "execution_count": 389,
   "metadata": {},
   "outputs": [
    {
     "data": {
      "image/png": "[encoded data removed]",
      "text/plain": [
       "<Figure size 432x288 with 1 Axes>"
      ]
     },
     "metadata": {},
     "output_type": "display_data"
    }
   ],
   "source": [
    "import seaborn as sns\n",
    "sns.set_style('whitegrid')\n",
    "\n",
    "#G = nx.petersen_graph()\n",
    "plt.subplot(121)\n",
    "nx.draw_networkx(DG, with_labels=True, font_weight='bold', node_size=1000, node_color='grey',linewidths=0.0)\n",
    "#plt.subplot(122)\n",
    "plt.show()"
   ]
  }
 ],
 "metadata": {
  "kernelspec": {
   "display_name": "Python 3",
   "language": "python",
   "name": "python3"
  },
  "language_info": {
   "codemirror_mode": {
    "name": "ipython",
    "version": 3
   },
   "file_extension": ".py",
   "mimetype": "text/x-python",
   "name": "python",
   "nbconvert_exporter": "python",
   "pygments_lexer": "ipython3",
   "version": "3.7.1"
  }
 },
 "nbformat": 4,
 "nbformat_minor": 2
}
