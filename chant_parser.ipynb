{
 "cells": [
  {
   "cell_type": "code",
   "execution_count": 12,
   "metadata": {},
   "outputs": [],
   "source": [
    "import psycopg2\n",
    "import pandas as pd"
   ]
  },
  {
   "cell_type": "code",
   "execution_count": 13,
   "metadata": {},
   "outputs": [],
   "source": [
    "conn = psycopg2.connect(\"dbname=gregorian user=codex\")\n",
    "conn.set_client_encoding('UTF8')\n",
    "cursor = conn.cursor()"
   ]
  },
  {
   "cell_type": "code",
   "execution_count": 14,
   "metadata": {},
   "outputs": [],
   "source": [
    "# query\n",
    "\n",
    "'''cursor.execute(\"\"\"\n",
    "                SELECT gabc \n",
    "                FROM gregobase_chants \n",
    "                WHERE office_part LIKE \\'in\\'\n",
    "                LIMIT 5;\n",
    "               \"\"\")'''\n",
    "cursor.execute(\"\"\"\n",
    "                SELECT gabc \n",
    "                FROM gregobase_chants \n",
    "                LIMIT 5;\n",
    "               \"\"\")"
   ]
  },
  {
   "cell_type": "code",
   "execution_count": 17,
   "metadata": {},
   "outputs": [],
   "source": [
    "# get first chant\n",
    "\n",
    "txt = cursor.fetchone()"
   ]
  },
  {
   "cell_type": "code",
   "execution_count": 18,
   "metadata": {},
   "outputs": [],
   "source": [
    "chant = eval(txt[0])"
   ]
  },
  {
   "cell_type": "markdown",
   "metadata": {},
   "source": [
    "# FUNCTIONS"
   ]
  },
  {
   "cell_type": "code",
   "execution_count": 19,
   "metadata": {},
   "outputs": [],
   "source": [
    "import re\n",
    "        \n",
    "\n",
    "def find_all_groups(chant):\n",
    "    \"\"\"\n",
    "    find only neumes\n",
    "    \"\"\"\n",
    "    # esclude anche le chiavi\n",
    "    # pattern = re.compile('(\\([^\\(\\):;,0-9]*\\))')\n",
    "    pattern = re.compile('(\\([^\\(\\)]*\\)\\s*)')\n",
    "    allneumes = re.findall(pattern, chant)\n",
    "    #allneumes = [clean_neuma(neuma) for neuma in allneumes]\n",
    "    return allneumes\n",
    "\n",
    "def clean_neuma(neuma):\n",
    "    # elimina le parentesi tonde e riduce tutto in minuscolo\n",
    "    neuma = re.sub('[\\(|\\)]','', neuma).lower()\n",
    "    # elimina i seguenti caratteri: ~<>owvVsr._'!\n",
    "    neuma = re.sub('[~<>owvVsr._\\'!\\s/\\\\\\\\r\\\\\\\\n]','', neuma)\n",
    "    return neuma"
   ]
  },
  {
   "cell_type": "code",
   "execution_count": 20,
   "metadata": {},
   "outputs": [
    {
     "data": {
      "text/plain": [
       "\"(c4) (f)(fgf__)(f.) (,) (f) (fg)(ghf)(fgf__)(f.) (ffhg)(f)(fgf__)(f.) (;) (d) (ffg)(f)(f) (f)(f)(fd/ffd)(d_c) (d) (ffg)(fg/hg/h_g) (f)(fg!hvGF'g)(gf..) (::) (gf~)(fff/hg/h_g)(fg!hvGF'g)(gf..) (::)\""
      ]
     },
     "execution_count": 20,
     "metadata": {},
     "output_type": "execute_result"
    }
   ],
   "source": [
    "whole_chant = ''.join(find_all_groups(chant))\n",
    "whole_chant"
   ]
  },
  {
   "cell_type": "code",
   "execution_count": 21,
   "metadata": {},
   "outputs": [],
   "source": [
    "def periods(chant):\n",
    "    periods = []\n",
    "    pattern = re.compile('\\(::\\)')\n",
    "    #chant = re.findall(pattern, chant)\n",
    "    chant = re.split(pattern, chant)\n",
    "    chant = [c.strip(None) for c in chant if c != '']\n",
    "    return chant"
   ]
  },
  {
   "cell_type": "code",
   "execution_count": 22,
   "metadata": {},
   "outputs": [
    {
     "data": {
      "text/plain": [
       "[\"(c4) (f)(fgf__)(f.) (,) (f) (fg)(ghf)(fgf__)(f.) (ffhg)(f)(fgf__)(f.) (;) (d) (ffg)(f)(f) (f)(f)(fd/ffd)(d_c) (d) (ffg)(fg/hg/h_g) (f)(fg!hvGF'g)(gf..)\",\n",
       " \"(gf~)(fff/hg/h_g)(fg!hvGF'g)(gf..)\"]"
      ]
     },
     "execution_count": 22,
     "metadata": {},
     "output_type": "execute_result"
    }
   ],
   "source": [
    "period = periods(whole_chant)\n",
    "period"
   ]
  },
  {
   "cell_type": "code",
   "execution_count": null,
   "metadata": {},
   "outputs": [],
   "source": [
    "a = ['qwe','ddd','']"
   ]
  },
  {
   "cell_type": "code",
   "execution_count": null,
   "metadata": {},
   "outputs": [],
   "source": []
  },
  {
   "cell_type": "code",
   "execution_count": 23,
   "metadata": {},
   "outputs": [
    {
     "data": {
      "text/plain": [
       "[4, 3, 5]"
      ]
     },
     "execution_count": 23,
     "metadata": {},
     "output_type": "execute_result"
    }
   ],
   "source": [
    "import networkx as nx\n",
    "\n",
    "DG = nx.DiGraph()\n",
    "DG.add_weighted_edges_from([(1, 4, 0), (1, 3, 0), (1,5,0)])\n",
    "list(DG.successors(1))"
   ]
  },
  {
   "cell_type": "code",
   "execution_count": null,
   "metadata": {},
   "outputs": [],
   "source": [
    "import matplotlib.pyplot as plt\n",
    "nx.draw(DG, with_labels=True)\n",
    "plt.subplot()"
   ]
  },
  {
   "cell_type": "code",
   "execution_count": null,
   "metadata": {},
   "outputs": [],
   "source": [
    "nx.draw_shell(G, nlist=[range(5, 10), range(5)], with_labels=True, font_weight='bold')\n",
    "plt.show()"
   ]
  },
  {
   "cell_type": "code",
   "execution_count": 30,
   "metadata": {},
   "outputs": [],
   "source": [
    "import networkx as nx\n",
    "\n",
    "DG = nx.DiGraph()\n",
    "#DG.add_weighted_edges_from([(1, 4, 0), (1, 3, 0), (1,5,0)])\n",
    "#list(DG.successors(1))\n",
    "DG.add_nodes_from([1,2])\n",
    "DG.add_nodes_from([2,3])\n",
    "DG.add_nodes_from([3,4])\n",
    "DG.add_nodes_from([1,3])\n",
    "DG.add_nodes_from([2,4])"
   ]
  },
  {
   "cell_type": "code",
   "execution_count": 31,
   "metadata": {},
   "outputs": [
    {
     "data": {
      "image/png": "[encoded data removed]",
      "text/plain": [
       "<Figure size 1152x864 with 1 Axes>"
      ]
     },
     "metadata": {},
     "output_type": "display_data"
    }
   ],
   "source": [
    "import seaborn as sns\n",
    "sns.set_style('white')\n",
    "import matplotlib.pyplot as plt\n",
    "sns.set(rc={'figure.figsize':(16,12)})\n",
    "\n",
    "plt.subplot(121)\n",
    "nx.draw(DG, with_labels=True, font_weight='bold', node_size=1000, node_color='grey',linewidths=0.0)\n",
    "#plt.subplot(122)\n",
    "plt.show()"
   ]
  }
 ],
 "metadata": {
  "kernelspec": {
   "display_name": "Python 3",
   "language": "python",
   "name": "python3"
  },
  "language_info": {
   "codemirror_mode": {
    "name": "ipython",
    "version": 3
   },
   "file_extension": ".py",
   "mimetype": "text/x-python",
   "name": "python",
   "nbconvert_exporter": "python",
   "pygments_lexer": "ipython3",
   "version": "3.7.1"
  }
 },
 "nbformat": 4,
 "nbformat_minor": 2
}
