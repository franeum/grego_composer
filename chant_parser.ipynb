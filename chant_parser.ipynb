{
 "cells": [
  {
   "cell_type": "code",
   "execution_count": 26,
   "metadata": {},
   "outputs": [],
   "source": [
    "import psycopg2\n",
    "import pandas as pd"
   ]
  },
  {
   "cell_type": "code",
   "execution_count": 30,
   "metadata": {},
   "outputs": [],
   "source": [
    "conn = psycopg2.connect(\"dbname=gragorian user=neum\")\n",
    "conn.set_client_encoding('UTF8')\n",
    "cursor = conn.cursor()"
   ]
  },
  {
   "cell_type": "code",
   "execution_count": 31,
   "metadata": {},
   "outputs": [],
   "source": [
    "# query\n",
    "\n",
    "'''cursor.execute(\"\"\"\n",
    "                SELECT gabc \n",
    "                FROM gregobase_chants \n",
    "                WHERE office_part LIKE \\'in\\'\n",
    "                LIMIT 5;\n",
    "               \"\"\")'''\n",
    "cursor.execute(\"\"\"\n",
    "                SELECT gabc \n",
    "                FROM gregobase_chants \n",
    "                LIMIT 5;\n",
    "               \"\"\")"
   ]
  },
  {
   "cell_type": "code",
   "execution_count": 32,
   "metadata": {},
   "outputs": [],
   "source": [
    "# get first chant\n",
    "\n",
    "txt = cursor.fetchone()"
   ]
  },
  {
   "cell_type": "code",
   "execution_count": 33,
   "metadata": {},
   "outputs": [],
   "source": [
    "chant = eval(txt[0])"
   ]
  },
  {
   "cell_type": "markdown",
   "metadata": {},
   "source": [
    "# FUNCTIONS"
   ]
  },
  {
   "cell_type": "code",
   "execution_count": 34,
   "metadata": {},
   "outputs": [],
   "source": [
    "import re\n",
    "        \n",
    "\n",
    "def find_all_groups(chant):\n",
    "    \"\"\"\n",
    "    find only neumes\n",
    "    \"\"\"\n",
    "    # esclude anche le chiavi\n",
    "    # pattern = re.compile('(\\([^\\(\\):;,0-9]*\\))')\n",
    "    pattern = re.compile('(\\([^\\(\\)]*\\)\\s*)')\n",
    "    allneumes = re.findall(pattern, chant)\n",
    "    #allneumes = [clean_neuma(neuma) for neuma in allneumes]\n",
    "    return allneumes\n",
    "\n",
    "def clean_neuma(neuma):\n",
    "    # elimina le parentesi tonde e riduce tutto in minuscolo\n",
    "    neuma = re.sub('[\\(|\\)]','', neuma).lower()\n",
    "    # elimina i seguenti caratteri: ~<>owvVsr._'!\n",
    "    neuma = re.sub('[~<>owvVsr._\\'!\\s/\\\\\\\\r\\\\\\\\n]','', neuma)\n",
    "    return neuma"
   ]
  },
  {
   "cell_type": "code",
   "execution_count": 35,
   "metadata": {},
   "outputs": [
    {
     "data": {
      "text/plain": [
       "\"(c4) (dc~)(c/e'gF'EC'd)(dc/fg!hvGF'g)(g.) (;) (hghvGFg_fgvFDffdev.dec.,e/ggh'GFgvFEffdevDCd!ewfd.) (::) (h)(ghG'E) (fe)(fg)(gvF'EC'dw!evDCd.) (;) (d)(d/ffe/ggh)(fvED) (cd) (d!ewfd)(d.) (:) (de) (gh)(gh)(h!iwj/ki'jvH'G/h!iwjh)(h.) (,) (h_ghvGF)(fvED) (c.d!ewfd)(d.) (;) (de)(gh) (ghgh)(h.) (,) (h!iwj/ki'jvH'G/h!iwjh)(h,hghvGFg_fgvFDffdev.dec.,e/ggh'GFgvFEffd/evDCd!ewfd.) (::)\""
      ]
     },
     "execution_count": 35,
     "metadata": {},
     "output_type": "execute_result"
    }
   ],
   "source": [
    "whole_chant = ''.join(find_all_groups(chant))\n",
    "whole_chant"
   ]
  },
  {
   "cell_type": "code",
   "execution_count": 55,
   "metadata": {},
   "outputs": [
    {
     "data": {
      "text/plain": [
       "[\"(c4) (dc~)(c/e'gF'EC'd)(dc/fg!hvGF'g)(g.) (;) (hghvGFg_fgvFDffdev.dec.,e/ggh'GFgvFEffdevDCd!ewfd.)\",\n",
       " \"(h)(ghG'E) (fe)(fg)(gvF'EC'dw!evDCd.) (;) (d)(d/ffe/ggh)(fvED) (cd) (d!ewfd)(d.) (:) (de) (gh)(gh)(h!iwj/ki'jvH'G/h!iwjh)(h.) (,) (h_ghvGF)(fvED) (c.d!ewfd)(d.) (;) (de)(gh) (ghgh)(h.) (,) (h!iwj/ki'jvH'G/h!iwjh)(h,hghvGFg_fgvFDffdev.dec.,e/ggh'GFgvFEffd/evDCd!ewfd.)\"]"
      ]
     },
     "execution_count": 55,
     "metadata": {},
     "output_type": "execute_result"
    }
   ],
   "source": [
    "separator = {\n",
    "    'period':re.compile('\\(::\\)'),\n",
    "    'phrase':re.compile('\\(:[\\'\\?]?\\)'),\n",
    "    'semiphrase':re.compile('\\(;\\)'),\n",
    "    'motive':re.compile('\\(;[1-6]\\)'),\n",
    "    'melisma':re.compile('\\(,[_0`]?\\)'),\n",
    "    'word':re.compile('\\s+'),\n",
    "    'neuma':re.compile('\\([^\\(\\)]*\\)')\n",
    "}\n",
    "\n",
    "def strip_all(f):\n",
    "    return [x.strip(None) for x in f if x != '']\n",
    "\n",
    "def divider(pattern):\n",
    "    def level(fragment):\n",
    "        pat = pattern\n",
    "        subdivs = re.split(pat, fragment)\n",
    "        subdivs = strip_all(subdivs)\n",
    "        return subdivs\n",
    "    return level\n",
    "\n",
    "period = divider(separator['period'])\n",
    "phrase = divider(separator['phrase'])\n",
    "semiphrase = divider(separator['semiphrase'])\n",
    "motive = divider(separator['motive'])\n",
    "melisma = divider(separator['melisma'])\n",
    "word = divider(separator['word'])\n",
    "neuma = divider(separator['neuma'])"
   ]
  },
  {
   "cell_type": "code",
   "execution_count": 37,
   "metadata": {},
   "outputs": [
    {
     "data": {
      "text/plain": [
       "[\"(c4) (dc~)(c/e'gF'EC'd)(dc/fg!hvGF'g)(g.) (;) (hghvGFg_fgvFDffdev.dec.,e/ggh'GFgvFEffdevDCd!ewfd.)\",\n",
       " \"(h)(ghG'E) (fe)(fg)(gvF'EC'dw!evDCd.) (;) (d)(d/ffe/ggh)(fvED) (cd) (d!ewfd)(d.) (:) (de) (gh)(gh)(h!iwj/ki'jvH'G/h!iwjh)(h.) (,) (h_ghvGF)(fvED) (c.d!ewfd)(d.) (;) (de)(gh) (ghgh)(h.) (,) (h!iwj/ki'jvH'G/h!iwjh)(h,hghvGFg_fgvFDffdev.dec.,e/ggh'GFgvFEffd/evDCd!ewfd.)\"]"
      ]
     },
     "execution_count": 37,
     "metadata": {},
     "output_type": "execute_result"
    }
   ],
   "source": [
    "period = periods(whole_chant)\n",
    "period"
   ]
  },
  {
   "cell_type": "code",
   "execution_count": 42,
   "metadata": {},
   "outputs": [
    {
     "data": {
      "text/plain": [
       "[[\"(c4) (dc~)(c/e'gF'EC'd)(dc/fg!hvGF'g)(g.) (;) (hghvGFg_fgvFDffdev.dec.,e/ggh'GFgvFEffdevDCd!ewfd.)\"],\n",
       " [\"(h)(ghG'E) (fe)(fg)(gvF'EC'dw!evDCd.) (;) (d)(d/ffe/ggh)(fvED) (cd) (d!ewfd)(d.) \",\n",
       "  \" (de) (gh)(gh)(h!iwj/ki'jvH'G/h!iwjh)(h.) (,) (h_ghvGF)(fvED) (c.d!ewfd)(d.) (;) (de)(gh) (ghgh)(h.) (,) (h!iwj/ki'jvH'G/h!iwjh)(h,hghvGFg_fgvFDffdev.dec.,e/ggh'GFgvFEffd/evDCd!ewfd.)\"]]"
      ]
     },
     "execution_count": 42,
     "metadata": {},
     "output_type": "execute_result"
    }
   ],
   "source": [
    "phrases = phrase(period)\n",
    "phrases"
   ]
  },
  {
   "cell_type": "code",
   "execution_count": 49,
   "metadata": {},
   "outputs": [
    {
     "data": {
      "text/plain": [
       "(2,)"
      ]
     },
     "execution_count": 49,
     "metadata": {},
     "output_type": "execute_result"
    }
   ],
   "source": [
    "import numpy as np\n",
    "\n",
    "sphrases = semiphrase(phrases)\n",
    "sph = np.array(sphrases)\n",
    "sph.shape"
   ]
  },
  {
   "cell_type": "code",
   "execution_count": null,
   "metadata": {},
   "outputs": [],
   "source": [
    "a = ['qwe','ddd','']"
   ]
  },
  {
   "cell_type": "code",
   "execution_count": null,
   "metadata": {},
   "outputs": [],
   "source": []
  },
  {
   "cell_type": "code",
   "execution_count": 23,
   "metadata": {},
   "outputs": [
    {
     "data": {
      "text/plain": [
       "[4, 3, 5]"
      ]
     },
     "execution_count": 23,
     "metadata": {},
     "output_type": "execute_result"
    }
   ],
   "source": [
    "import networkx as nx\n",
    "\n",
    "DG = nx.DiGraph()\n",
    "DG.add_weighted_edges_from([(1, 4, 0), (1, 3, 0), (1,5,0)])\n",
    "list(DG.successors(1))"
   ]
  },
  {
   "cell_type": "code",
   "execution_count": null,
   "metadata": {},
   "outputs": [],
   "source": [
    "import matplotlib.pyplot as plt\n",
    "nx.draw(DG, with_labels=True)\n",
    "plt.subplot()"
   ]
  },
  {
   "cell_type": "code",
   "execution_count": null,
   "metadata": {},
   "outputs": [],
   "source": [
    "nx.draw_shell(G, nlist=[range(5, 10), range(5)], with_labels=True, font_weight='bold')\n",
    "plt.show()"
   ]
  },
  {
   "cell_type": "code",
   "execution_count": 19,
   "metadata": {},
   "outputs": [],
   "source": [
    "import networkx as nx\n",
    "\n",
    "DG = nx.DiGraph()\n",
    "#DG.add_weighted_edges_from([(1, 4, 0), (1, 3, 0), (1,5,0)])\n",
    "#list(DG.successors(1))\n",
    "DG.add_nodes_from(range(1,10))\n",
    "#DG.add_edges_from([(1, 2), (1, 3)])\n",
    "DG.add_edges_from([[1,i] for i in range(2,10)])"
   ]
  },
  {
   "cell_type": "code",
   "execution_count": 51,
   "metadata": {},
   "outputs": [
    {
     "data": {
      "image/png": "[encoded data removed]",
      "text/plain": [
       "<Figure size 2304x864 with 1 Axes>"
      ]
     },
     "metadata": {},
     "output_type": "display_data"
    }
   ],
   "source": [
    "import seaborn as sns\n",
    "import matplotlib.pyplot as plt\n",
    "#sns.set_style('whitegrid')\n",
    "sns.set(rc={'figure.figsize':(32,12)})\n",
    "\n",
    "plt.subplot(121)\n",
    "nx.draw(DG, with_labels=True, font_weight='bold', node_size=5000, node_color='grey')\n",
    "#plt.subplot(122)\n",
    "plt.show()"
   ]
  }
 ],
 "metadata": {
  "kernelspec": {
   "display_name": "py37",
   "language": "python",
   "name": "py37"
  },
  "language_info": {
   "codemirror_mode": {
    "name": "ipython",
    "version": 3
   },
   "file_extension": ".py",
   "mimetype": "text/x-python",
   "name": "python",
   "nbconvert_exporter": "python",
   "pygments_lexer": "ipython3",
   "version": "3.7.2"
  }
 },
 "nbformat": 4,
 "nbformat_minor": 2
}
