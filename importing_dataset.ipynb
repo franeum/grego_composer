{
 "cells": [
  {
   "cell_type": "code",
   "execution_count": 36,
   "metadata": {},
   "outputs": [
    {
     "data": {
      "text/html": [
       "<div>\n",
       "<style scoped>\n",
       "    .dataframe tbody tr th:only-of-type {\n",
       "        vertical-align: middle;\n",
       "    }\n",
       "\n",
       "    .dataframe tbody tr th {\n",
       "        vertical-align: top;\n",
       "    }\n",
       "\n",
       "    .dataframe thead th {\n",
       "        text-align: right;\n",
       "    }\n",
       "</style>\n",
       "<table border=\"1\" class=\"dataframe\">\n",
       "  <thead>\n",
       "    <tr style=\"text-align: right;\">\n",
       "      <th></th>\n",
       "      <th>id</th>\n",
       "      <th>cantusid</th>\n",
       "      <th>version</th>\n",
       "      <th>incipit</th>\n",
       "      <th>initial</th>\n",
       "      <th>office-part</th>\n",
       "      <th>mode</th>\n",
       "      <th>mode_var</th>\n",
       "      <th>transcriber</th>\n",
       "      <th>commentary</th>\n",
       "      <th>gabc</th>\n",
       "      <th>gabc_verses</th>\n",
       "      <th>tex_verses</th>\n",
       "      <th>remarks</th>\n",
       "    </tr>\n",
       "  </thead>\n",
       "  <tbody>\n",
       "    <tr>\n",
       "      <th>0</th>\n",
       "      <td>1</td>\n",
       "      <td>NaN</td>\n",
       "      <td>Solesmes</td>\n",
       "      <td>Laudem Domini</td>\n",
       "      <td>t</td>\n",
       "      <td>al</td>\n",
       "      <td>1</td>\n",
       "      <td>NaN</td>\n",
       "      <td>Andrew Hinkley</td>\n",
       "      <td>NaN</td>\n",
       "      <td>\\(c4) AL(dc~)le(c/e'gF'EC'd)l\\\\u00fa(dc/fg!hvG...</td>\n",
       "      <td>NaN</td>\n",
       "      <td>NaN</td>\n",
       "      <td>NaN</td>\n",
       "    </tr>\n",
       "    <tr>\n",
       "      <th>1</th>\n",
       "      <td>2</td>\n",
       "      <td>NaN</td>\n",
       "      <td>Solesmes</td>\n",
       "      <td>Deus misereatur</td>\n",
       "      <td>t</td>\n",
       "      <td>in</td>\n",
       "      <td>3</td>\n",
       "      <td>NaN</td>\n",
       "      <td>Andrew Hinkley</td>\n",
       "      <td>NaN</td>\n",
       "      <td>\\(c4) DE(g)us(gd) *() mi(d)se(e)re(f)\\\\u00e1(g...</td>\n",
       "      <td>NaN</td>\n",
       "      <td>NaN</td>\n",
       "      <td>NaN</td>\n",
       "    </tr>\n",
       "    <tr>\n",
       "      <th>2</th>\n",
       "      <td>3</td>\n",
       "      <td>NaN</td>\n",
       "      <td>Solesmes</td>\n",
       "      <td>Beati qui custodiunt</td>\n",
       "      <td>t</td>\n",
       "      <td>of</td>\n",
       "      <td>6</td>\n",
       "      <td>NaN</td>\n",
       "      <td>Andrew Hinkley</td>\n",
       "      <td>NaN</td>\n",
       "      <td>\\(c4) BE(f)\\\\u00e1(fgf__)ti,(f.) *(,) qui(f) c...</td>\n",
       "      <td>NaN</td>\n",
       "      <td>NaN</td>\n",
       "      <td>NaN</td>\n",
       "    </tr>\n",
       "    <tr>\n",
       "      <th>3</th>\n",
       "      <td>4</td>\n",
       "      <td>NaN</td>\n",
       "      <td>Solesmes</td>\n",
       "      <td>Juravi et statui</td>\n",
       "      <td>t</td>\n",
       "      <td>al</td>\n",
       "      <td>8</td>\n",
       "      <td>NaN</td>\n",
       "      <td>Andrew Hinkley</td>\n",
       "      <td>NaN</td>\n",
       "      <td>\\(c4) AL(g)le(g)l\\\\u00fa(gggvFE'f)ia.(d.) *(;)...</td>\n",
       "      <td>NaN</td>\n",
       "      <td>NaN</td>\n",
       "      <td>NaN</td>\n",
       "    </tr>\n",
       "    <tr>\n",
       "      <th>4</th>\n",
       "      <td>5</td>\n",
       "      <td>NaN</td>\n",
       "      <td>Solesmes</td>\n",
       "      <td>Vidi civitatem</td>\n",
       "      <td>t</td>\n",
       "      <td>in</td>\n",
       "      <td>8</td>\n",
       "      <td>NaN</td>\n",
       "      <td>Andrew Hinkley</td>\n",
       "      <td>NaN</td>\n",
       "      <td>\\(c4) VI(d!f'g)di(g) *() ci(gh)vi(f)t\\\\u00e1(f...</td>\n",
       "      <td>NaN</td>\n",
       "      <td>NaN</td>\n",
       "      <td>NaN</td>\n",
       "    </tr>\n",
       "  </tbody>\n",
       "</table>\n",
       "</div>"
      ],
      "text/plain": [
       "  id cantusid   version               incipit initial office-part mode  \\\n",
       "0  1      NaN  Solesmes         Laudem Domini       t          al    1   \n",
       "1  2      NaN  Solesmes       Deus misereatur       t          in    3   \n",
       "2  3      NaN  Solesmes  Beati qui custodiunt       t          of    6   \n",
       "3  4      NaN  Solesmes      Juravi et statui       t          al    8   \n",
       "4  5      NaN  Solesmes        Vidi civitatem       t          in    8   \n",
       "\n",
       "  mode_var     transcriber commentary  \\\n",
       "0      NaN  Andrew Hinkley        NaN   \n",
       "1      NaN  Andrew Hinkley        NaN   \n",
       "2      NaN  Andrew Hinkley        NaN   \n",
       "3      NaN  Andrew Hinkley        NaN   \n",
       "4      NaN  Andrew Hinkley        NaN   \n",
       "\n",
       "                                                gabc gabc_verses tex_verses  \\\n",
       "0  \\(c4) AL(dc~)le(c/e'gF'EC'd)l\\\\u00fa(dc/fg!hvG...         NaN        NaN   \n",
       "1  \\(c4) DE(g)us(gd) *() mi(d)se(e)re(f)\\\\u00e1(g...         NaN        NaN   \n",
       "2  \\(c4) BE(f)\\\\u00e1(fgf__)ti,(f.) *(,) qui(f) c...         NaN        NaN   \n",
       "3  \\(c4) AL(g)le(g)l\\\\u00fa(gggvFE'f)ia.(d.) *(;)...         NaN        NaN   \n",
       "4  \\(c4) VI(d!f'g)di(g) *() ci(gh)vi(f)t\\\\u00e1(f...         NaN        NaN   \n",
       "\n",
       "  remarks  \n",
       "0     NaN  \n",
       "1     NaN  \n",
       "2     NaN  \n",
       "3     NaN  \n",
       "4     NaN  "
      ]
     },
     "execution_count": 36,
     "metadata": {},
     "output_type": "execute_result"
    }
   ],
   "source": [
    "import pandas as pd\n",
    "\n",
    "path = 'gabc_db_tab.csv'\n",
    "gabc = pd.read_csv(path, sep='\\t')\n",
    "gabc.head()"
   ]
  },
  {
   "cell_type": "code",
   "execution_count": 37,
   "metadata": {},
   "outputs": [
    {
     "data": {
      "text/plain": [
       "(8209, 14)"
      ]
     },
     "execution_count": 37,
     "metadata": {},
     "output_type": "execute_result"
    }
   ],
   "source": [
    "gabc.shape"
   ]
  },
  {
   "cell_type": "code",
   "execution_count": 38,
   "metadata": {},
   "outputs": [
    {
     "data": {
      "text/plain": [
       "id             object\n",
       "cantusid       object\n",
       "version        object\n",
       "incipit        object\n",
       "initial        object\n",
       "office-part    object\n",
       "mode           object\n",
       "mode_var       object\n",
       "transcriber    object\n",
       "commentary     object\n",
       "gabc           object\n",
       "gabc_verses    object\n",
       "tex_verses     object\n",
       "remarks        object\n",
       "dtype: object"
      ]
     },
     "execution_count": 38,
     "metadata": {},
     "output_type": "execute_result"
    }
   ],
   "source": [
    "gabc.dtypes"
   ]
  },
  {
   "cell_type": "code",
   "execution_count": 39,
   "metadata": {},
   "outputs": [],
   "source": [
    "import re\n",
    "\n",
    "def findgroups(line):\n",
    "    \"\"\"\n",
    "    return neumes only\n",
    "    \"\"\"\n",
    "    #pattern = re.compile('(\\([a-zA-Z]+\\))')\n",
    "    pattern = re.compile('(\\([^\\(\\)]+\\))')\n",
    "    allgroups = re.findall(pattern, line)\n",
    "    return allgroups"
   ]
  },
  {
   "cell_type": "code",
   "execution_count": 40,
   "metadata": {},
   "outputs": [],
   "source": [
    "test = gabc['gabc'][0]"
   ]
  },
  {
   "cell_type": "code",
   "execution_count": 41,
   "metadata": {},
   "outputs": [
    {
     "name": "stdout",
     "output_type": "stream",
     "text": [
      "['(c4)', '(dc~)', \"(c/e'gF'EC'd)\", \"(dc/fg!hvGF'g)\", '(g.)', '(;)', \"(hghvGFg_fgvFDffdev.dec.,e/ggh'GFgvFEffdevDCd!ewfd.)\", '(::)', '(h)', \"(ghG'E)\", '(fe)', '(fg)', \"(gvF'EC'dw!evDCd.)\", '(;)', '(d)', '(d/ffe/ggh)', '(fvED)', '(cd)', '(d!ewfd)', '(d.)', '(:)', '(de)', '(gh)', '(gh)', \"(h!iwj/ki'jvH'G/h!iwjh)\", '(h.)', '(,)', '(h_ghvGF)', '(fvED)', '(c.d!ewfd)', '(d.)', '(;)', '(de)', '(gh)', '(ghgh)', '(h.)', '(,)', \"(h!iwj/ki'jvH'G/h!iwjh)\", \"(h,hghvGFg_fgvFDffdev.dec.,e/ggh'GFgvFEffd/evDCd!ewfd.)\", '(::)']\n"
     ]
    }
   ],
   "source": [
    "print(findgroups(test))"
   ]
  },
  {
   "cell_type": "code",
   "execution_count": null,
   "metadata": {},
   "outputs": [],
   "source": [
    "(c4) AL(dc~)le(c/e'gF'EC'd)lú(dc/fg!hvGF'g)ia.(g.) *(;) <i>ij.</i>(hghvGFg_fgvFDffdev.dec.,e/ggh'GFgvFEffdevDCd!ewfd.) <sp>V/</sp>.(::) Lau(h)dem(ghG'E) Dó(fe)mi(fg)ni(gvF'EC'dw!evDCd.) (;) lo(d)qué(d/ffe/ggh)tur(fvED) os(cd) me(d!ewfd)um,(d.) (:) et(de) be(gh)ne(gh)dí(h!iwj/ki'jvH'G/h!iwjh)cat(h.) (,) o(h_ghvGF)mnis(fvED) ca(c.d!ewfd)ro(d.) (;) no(de)men(gh) san(ghgh)ctum(h.) *(,) e(h!iwj/ki'jvH'G/h!iwjh)jus.(h,hghvGFg_fgvFDffdev.dec.,e/ggh'GFgvFEffd/evDCd!ewfd.) (::)"
   ]
  },
  {
   "cell_type": "code",
   "execution_count": 35,
   "metadata": {},
   "outputs": [
    {
     "data": {
      "text/plain": [
       "id                                                             1\n",
       "cantusid                                                     NaN\n",
       "version                                                 Solesmes\n",
       "incipit                                            Laudem Domini\n",
       "initial                                                        t\n",
       "office-part                                                   al\n",
       "mode                                                           1\n",
       "mode_var                                                     NaN\n",
       "transcriber                                       Andrew Hinkley\n",
       "commentary                                                   NaN\n",
       "gabc           '(c4) AL(dc~)le(c/e''gF''EC''d)l\\u00fa(dc/fg!h...\n",
       "gabc_verses                                                    0\n",
       "tex_verses                                                   NaN\n",
       "remarks                                                      NaN\n",
       "Name: 0, dtype: object"
      ]
     },
     "execution_count": 35,
     "metadata": {},
     "output_type": "execute_result"
    }
   ],
   "source": [
    "gabc.loc[0]"
   ]
  }
 ],
 "metadata": {
  "kernelspec": {
   "display_name": "Python 3",
   "language": "python",
   "name": "python3"
  },
  "language_info": {
   "codemirror_mode": {
    "name": "ipython",
    "version": 3
   },
   "file_extension": ".py",
   "mimetype": "text/x-python",
   "name": "python",
   "nbconvert_exporter": "python",
   "pygments_lexer": "ipython3",
   "version": "3.7.1"
  }
 },
 "nbformat": 4,
 "nbformat_minor": 2
}
