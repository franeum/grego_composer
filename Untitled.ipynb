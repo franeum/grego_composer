{
 "cells": [
  {
   "cell_type": "code",
   "execution_count": 21,
   "metadata": {},
   "outputs": [],
   "source": [
    "import pandas as pd\n",
    "import re"
   ]
  },
  {
   "cell_type": "code",
   "execution_count": 19,
   "metadata": {},
   "outputs": [],
   "source": [
    "path = 'dominican.gabc'"
   ]
  },
  {
   "cell_type": "code",
   "execution_count": 63,
   "metadata": {},
   "outputs": [
    {
     "name": "stdout",
     "output_type": "stream",
     "text": [
      "(c2) As(cd)pér(fe)ges(f) me,(g) (::)\n",
      "[('(cd)', ''), ('(fe)', ''), ('(f)', ' '), ('(g)', ' '), ('(::)', '')]\n",
      "\n",
      "Dó(hj)mi(ji)ne,(hg) (;)\n",
      "[('(hj)', ''), ('(ji)', ''), ('(hg)', ' '), ('(;)', '')]\n",
      "\n",
      "hys(h)só(g)po,(ef) et(gvFD) mu(e)ndá(cdc)bor:(c) (:)\n",
      "[('(h)', ''), ('(g)', ''), ('(ef)', ' '), ('(gvFD)', ' '), ('(e)', ''), ('(cdc)', ''), ('(c)', ' '), ('(:)', '')]\n",
      "\n",
      "la(cd)vá(fvED)bis(ef) me,(g) (;)\n",
      "[('(cd)', ''), ('(fvED)', ''), ('(ef)', ' '), ('(g)', ' '), ('(;)', '')]\n",
      "\n",
      "et(gh/ivHG) su(fe)per(d) ni(f)vem(ef) de(gvFD)al(e)bá(cdc)bor.(c) (::)\n",
      "[('(fe)', ''), ('(d)', ' '), ('(f)', ''), ('(ef)', ' '), ('(gvFD)', ''), ('(e)', ''), ('(cdc)', ''), ('(c)', ' '), ('(::)', '')]\n",
      "\n",
      "<sp>V/</sp>. Mi(cfe)se(fg)ré(g)re(g) me(gi)i(h) De(hg)us,(gh) (::)\n",
      "[('(cfe)', ''), ('(fg)', ''), ('(g)', ''), ('(g)', ' '), ('(gi)', ''), ('(h)', ' '), ('(hg)', ''), ('(gh)', ' '), ('(::)', '')]\n",
      "\n",
      "se(ge)cú(fg)ndum(g) ma(g)gnam(g) mi(g)se(g)ri(g)cór(g!hih)di(g)am(f) tu(fe)am.(dc) (::Z)\n",
      "[('(ge)', ''), ('(fg)', ''), ('(g)', ' '), ('(g)', ''), ('(g)', ' '), ('(g)', ''), ('(g)', ''), ('(g)', ''), ('(g)', ''), ('(f)', ' '), ('(fe)', ''), ('(dc)', ' '), ('(::Z)', '')]\n",
      "\n",
      "Gló(cfe)ri(fg)a(g) Pa(g)tri,(g) et(g) Fí(g)li(g)o,(g) (;3)\n",
      "[('(cfe)', ''), ('(fg)', ''), ('(g)', ' '), ('(g)', ''), ('(g)', ' '), ('(g)', ' '), ('(g)', ''), ('(g)', ''), ('(g)', ' ')]\n",
      "\n",
      "et(g) Spi(g)rí(gi)tu(h)i(h) Sa(hg)ncto.(gh) (::)\n",
      "[('(g)', ' '), ('(g)', ''), ('(gi)', ''), ('(h)', ''), ('(h)', ' '), ('(hg)', ''), ('(gh)', ' '), ('(::)', '')]\n",
      "\n",
      "Si(ge)cut(fg) e(g)rat(g) in(g) prin(g)cí(g)pi(g)o,(g) (;3)\n",
      "[('(ge)', ''), ('(fg)', ' '), ('(g)', ''), ('(g)', ' '), ('(g)', ' '), ('(g)', ''), ('(g)', ''), ('(g)', ''), ('(g)', ' ')]\n",
      "\n",
      "et(g) nunc,(gi) et(h) se(hg)mper,(gh) (:)\n",
      "[('(g)', ' '), ('(gi)', ' '), ('(h)', ' '), ('(hg)', ''), ('(gh)', ' '), ('(:)', '')]\n",
      "\n",
      "et(ge) in(fg) s<v>\\'\\ae</v>(g)cu(g)la(g) s<v>\\ae</v>(g)cu(g!hih)ló(g)rum.(f) A(fe)men.(dc) (::)\n",
      "[('(ge)', ' '), ('(fg)', ' '), ('(g)', ''), ('(g)', ''), ('(g)', ' '), ('(g)', ''), ('(g)', ''), ('(f)', ' '), ('(fe)', ''), ('(dc)', ' '), ('(::)', '')]\n",
      "\n",
      "As(cd)pér(fe)ges(f) me.(g) (::Z)\n",
      "[('(cd)', ''), ('(fe)', ''), ('(f)', ' '), ('(g)', ' '), ('(::Z)', '')]\n",
      "\n",
      "<sp>V/</sp>. Et<alt>Dominicis in Passione et in Palmis, loco \\textbf{\\emph{Glória Patri}}, dicitur</alt>(cfe) se(fg)cú(g)ndum(g) mul(g)ti(g)tú(g)di(g)nem(g) mi(g)se(g)ra(g)ti(g)ó(gi)num(h) tu(h)á(hg)rum,(gh) (::)\n",
      "[('(cfe)', ' '), ('(fg)', ''), ('(g)', ''), ('(g)', ' '), ('(g)', ''), ('(g)', ''), ('(g)', ''), ('(g)', ''), ('(g)', ' '), ('(g)', ''), ('(g)', ''), ('(g)', ''), ('(g)', ''), ('(gi)', ''), ('(h)', ' '), ('(h)', ''), ('(hg)', ''), ('(gh)', ' '), ('(::)', '')]\n",
      "\n",
      "de(ge)le(fg) i(g)ni(g)qui(g!hih)tá(g)tem(f) me(fe)am.(dc) (::)\n",
      "[('(ge)', ''), ('(fg)', ' '), ('(g)', ''), ('(g)', ''), ('(g)', ''), ('(f)', ' '), ('(fe)', ''), ('(dc)', ' '), ('(::)', '')]\n",
      "\n",
      "As(cd)pér(fe)ges(f) me.(g) (::)\n",
      "[('(cd)', ''), ('(fe)', ''), ('(f)', ' '), ('(g)', ' '), ('(::)', '')]\n",
      "\n"
     ]
    }
   ],
   "source": [
    "with open(path, 'r') as fp:\n",
    "    check = False\n",
    "    line = fp.readline()\n",
    "    while line:\n",
    "        #print(line.strip(None))\n",
    "        if check:\n",
    "            txt = line.strip(None)\n",
    "            print(txt)\n",
    "            groups = findgroups(txt)\n",
    "            print(groups)\n",
    "            print()\n",
    "        if line.strip(None) == '%%':\n",
    "            check = True\n",
    "        line = fp.readline()"
   ]
  },
  {
   "cell_type": "markdown",
   "metadata": {},
   "source": [
    "### restituisce solo i neumi, i finali di frase (:: et sim.) "
   ]
  },
  {
   "cell_type": "code",
   "execution_count": 62,
   "metadata": {},
   "outputs": [],
   "source": [
    "def findgroups(line):\n",
    "    \"\"\"\n",
    "    \n",
    "    \"\"\"\n",
    "    pattern = re.compile('(\\([a-zA-Z\\:\\;]+\\))(\\s*)')\n",
    "    allgroups = re.findall(pattern, line)\n",
    "    return allgroups"
   ]
  },
  {
   "cell_type": "code",
   "execution_count": 64,
   "metadata": {},
   "outputs": [
    {
     "ename": "AttributeError",
     "evalue": "type object 'str' has no attribute 'decode'",
     "output_type": "error",
     "traceback": [
      "\u001b[0;31m---------------------------------------------------------------------\u001b[0m",
      "\u001b[0;31mAttributeError\u001b[0m                      Traceback (most recent call last)",
      "\u001b[0;32m<ipython-input-64-6d2f4e833559>\u001b[0m in \u001b[0;36m<module>\u001b[0;34m\u001b[0m\n\u001b[0;32m----> 1\u001b[0;31m \u001b[0mhelp\u001b[0m\u001b[0;34m(\u001b[0m\u001b[0mstr\u001b[0m\u001b[0;34m.\u001b[0m\u001b[0mdecode\u001b[0m\u001b[0;34m)\u001b[0m\u001b[0;34m\u001b[0m\u001b[0;34m\u001b[0m\u001b[0m\n\u001b[0m",
      "\u001b[0;31mAttributeError\u001b[0m: type object 'str' has no attribute 'decode'"
     ]
    }
   ],
   "source": [
    "help(str.decode)"
   ]
  }
 ],
 "metadata": {
  "kernelspec": {
   "display_name": "Python 3",
   "language": "python",
   "name": "python3"
  },
  "language_info": {
   "codemirror_mode": {
    "name": "ipython",
    "version": 3
   },
   "file_extension": ".py",
   "mimetype": "text/x-python",
   "name": "python",
   "nbconvert_exporter": "python",
   "pygments_lexer": "ipython3",
   "version": "3.7.1"
  }
 },
 "nbformat": 4,
 "nbformat_minor": 2
}
