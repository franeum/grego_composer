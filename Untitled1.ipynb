{
 "cells": [
  {
   "cell_type": "code",
   "execution_count": 1,
   "metadata": {},
   "outputs": [],
   "source": [
    "import psycopg2\n",
    "\n",
    "db = psycopg2.connect(\"dbname=gregorian user=codex\")\n",
    "\n",
    "cursor = db.cursor()"
   ]
  },
  {
   "cell_type": "code",
   "execution_count": 4,
   "metadata": {},
   "outputs": [],
   "source": [
    "cursor.execute(\"\"\"\n",
    "                SELECT gabc \n",
    "                FROM gregobase_chants \n",
    "                WHERE office_part LIKE \\'in\\'\n",
    "                LIMIT 5;\n",
    "               \"\"\")"
   ]
  },
  {
   "cell_type": "code",
   "execution_count": 5,
   "metadata": {},
   "outputs": [],
   "source": [
    "txt = cursor.fetchone()[0]"
   ]
  },
  {
   "cell_type": "code",
   "execution_count": 6,
   "metadata": {},
   "outputs": [
    {
     "data": {
      "text/plain": [
       "'\"(c4) DE(g)us(gd) *() mi(d)se(e)re(f)\\\\u00e1(gh)tur(h) no(ghhg)stri,(g.) (;) et(g) be(g)ne(hj)d\\\\u00ed(jjj)cat(g) no(high)bis:(h.) (:) il(gh)l\\\\u00fa(j)mi(i)net(jk) vul(k)tum(kj) su(k)um(g.) su(hj)per(j) nos,(ijhhg.) (;) et(g) mi(h)se(gf)re(gh)\\\\u00e1(h)tur(h!jj) no(h_ghvG\\'F)stri:(f.) (:) ut(f) co(fg~)gno(g)sc\\\\u00e1(ghGF\\'h)mus(h) in(h) ter(hih)ra(g.) vi(h)am(j) tu(ikjj)am,(ji..) (;) in(j) \\\\u00f3(jjk)mni(hg)bus(h) g\\\\u00e9n(gf)ti(gh)bus(h.) (,) sa(h)lu(h)t\\\\u00e1(j.h!iw!jvIG\\'h)re(g.) tu(egF\\'E)um.(e.) <i>T. P.</i>(::) Al(e)le(f)l\\\\u00fa(gh)ia,(g.) (,) al(gh)le(g.h!iwjjvIH\\'G)l\\\\u00fa(g_e/fgF\\'E)ia.(e.) <i>Ps.</i>(::) Con(g)fi(hj)te(j)\\\\u00e1n(j)tur(j) ti(j)bi(j) p\\\\u00f3(k)pu(j)li,(j) De(ih)us:(jjj) *(:) con(ig~)fi(hj)te(j)\\\\u00e1n(j)tur(j) ti(j)bi(j) p\\\\u00f3(jji)pu(hg)li(h\\') o(i)mnes.(gh..) (::) Gl\\\\u00f3(g)ri(hj)a(j) Pa(j)tri(j) (::) E(j) u(jji) o(hg) u(h\\') a(i) e(gh..) (::)\"'"
      ]
     },
     "execution_count": 6,
     "metadata": {},
     "output_type": "execute_result"
    }
   ],
   "source": [
    "txt"
   ]
  },
  {
   "cell_type": "code",
   "execution_count": 42,
   "metadata": {},
   "outputs": [],
   "source": [
    "punctum_quadratum = 'abcdefghijklm'\n",
    "punctum_inclinatum = 'ABCDEFGHIJKLM'\n",
    "other_single = '~<>owvVs'\n",
    "other_single_add = ''"
   ]
  },
  {
   "cell_type": "code",
   "execution_count": 43,
   "metadata": {},
   "outputs": [
    {
     "data": {
      "text/plain": [
       "'go'"
      ]
     },
     "execution_count": 43,
     "metadata": {},
     "output_type": "execute_result"
    }
   ],
   "source": []
  },
  {
   "cell_type": "code",
   "execution_count": 39,
   "metadata": {},
   "outputs": [
    {
     "data": {
      "text/plain": [
       "False"
      ]
     },
     "execution_count": 39,
     "metadata": {},
     "output_type": "execute_result"
    }
   ],
   "source": [
    "'z' in single"
   ]
  },
  {
   "cell_type": "code",
   "execution_count": null,
   "metadata": {},
   "outputs": [],
   "source": [
    "import re\n",
    "\n",
    "def"
   ]
  },
  {
   "cell_type": "code",
   "execution_count": 105,
   "metadata": {},
   "outputs": [],
   "source": [
    "import re\n",
    "\n",
    "def findgroups(chant):\n",
    "    \"\"\"\n",
    "    divides chant in neumatic groups and returns a list of all groups\n",
    "    \"\"\"\n",
    "    pattern = re.compile('(\\([^\\(\\)]*\\)|\\s+)')\n",
    "    allgroups = re.findall(pattern, chant)\n",
    "    return allgroups\n",
    "\n",
    "def find_neumes(chant):\n",
    "    \"\"\"\n",
    "    find only neumes\n",
    "    \"\"\"\n",
    "    pattern = re.compile('(\\([^\\(\\):;,]*\\))')\n",
    "    allneumes = re.findall(pattern, chant)\n",
    "    allneumes = [x.replace('(','') for x in allneumes]\n",
    "    allneumes = [x.replace(')','') for x in allneumes]\n",
    "    allneumes = [x.replace('~','') for x in allneumes]\n",
    "    allneumes = [x.replace('<','') for x in allneumes]\n",
    "    allneumes = [x.replace('>','') for x in allneumes]\n",
    "    allneumes = [x.replace('v','') for x in allneumes]\n",
    "    allneumes = [x.replace('V','') for x in allneumes]\n",
    "    allneumes = [x.replace('.','') for x in allneumes]\n",
    "    allneumes = [x.replace('_','') for x in allneumes]\n",
    "    allneumes = [x.replace('o','') for x in allneumes]\n",
    "    allneumes = [x.replace('w','') for x in allneumes]\n",
    "    allneumes = [x.replace('s','') for x in allneumes]\n",
    "    allneumes = [x.replace('\\'','') for x in allneumes]\n",
    "    allneumes = '/'.join(allneumes)\n",
    "    allneumes = allneumes.split('/')\n",
    "    return allneumes[1:]\n",
    "\n",
    "def find_all_neumes(chant):\n",
    "    \"\"\"\n",
    "    find only neumes\n",
    "    \"\"\"\n",
    "    # esclude anche le chiavi\n",
    "    # pattern = re.compile('(\\([^\\(\\):;,0-9]*\\))')\n",
    "    pattern = re.compile('(\\([^\\(\\)]*\\))')\n",
    "    allneumes = re.findall(pattern, chant)\n",
    "    allneumes = [clean_neuma(neuma) for neuma in allneumes]\n",
    "    return allneumes\n",
    "\n",
    "def clean_neuma(neuma):\n",
    "    # elimina le parentesi tonde e riduce tutto in minuscolo\n",
    "    neuma = re.sub('[\\(|\\)]','', neuma).lower()\n",
    "    # elimina i seguenti caratteri: ~<>owvVsr._'!\n",
    "    neuma = re.sub('[~<>owvVsr._\\'!\\s/\\\\\\\\r\\\\\\\\n]','', neuma)\n",
    "    return neuma\n",
    "\n",
    "def fix_utf(chant):\n",
    "    return ''.join([x for x in chant])"
   ]
  },
  {
   "cell_type": "code",
   "execution_count": 106,
   "metadata": {},
   "outputs": [],
   "source": [
    "cursor.execute(\"\"\"\n",
    "                SELECT gabc \n",
    "                FROM gregobase_chants\n",
    "                WHERE office_part LIKE \\'hy\\';\n",
    "               \"\"\")"
   ]
  },
  {
   "cell_type": "code",
   "execution_count": 107,
   "metadata": {},
   "outputs": [],
   "source": [
    "neumes = []\n",
    "txt = cursor.fetchone()\n",
    "while txt:\n",
    "    neumes.extend(find_all_neumes(txt[0]))\n",
    "    txt = cursor.fetchone()"
   ]
  },
  {
   "cell_type": "code",
   "execution_count": 262,
   "metadata": {},
   "outputs": [],
   "source": [
    "#neumes = [x.strip() for x in neumes]"
   ]
  },
  {
   "cell_type": "code",
   "execution_count": 108,
   "metadata": {},
   "outputs": [],
   "source": [
    "for i in neumes:\n",
    "    x = ' ' in i\n",
    "    if x:\n",
    "        print(i)"
   ]
  },
  {
   "cell_type": "code",
   "execution_count": 109,
   "metadata": {},
   "outputs": [
    {
     "data": {
      "text/plain": [
       "count     73218\n",
       "unique      383\n",
       "top           h\n",
       "freq       9227\n",
       "dtype: object"
      ]
     },
     "execution_count": 109,
     "metadata": {},
     "output_type": "execute_result"
    }
   ],
   "source": [
    "import pandas as pd\n",
    "series = pd.Series(neumes)\n",
    "series.describe()"
   ]
  },
  {
   "cell_type": "code",
   "execution_count": 110,
   "metadata": {},
   "outputs": [
    {
     "data": {
      "text/plain": [
       "191.16971279373368"
      ]
     },
     "execution_count": 110,
     "metadata": {},
     "output_type": "execute_result"
    }
   ],
   "source": [
    "len(neumes) / series.unique().shape[0]"
   ]
  },
  {
   "cell_type": "code",
   "execution_count": 111,
   "metadata": {},
   "outputs": [
    {
     "data": {
      "text/plain": [
       "array(['c4', 'e', 'gh', 'h', 'hg', 'hij', 'ih', ';', 'hi', 'g', 'j', '::',\n",
       "       'i', 'iji', 'ij', 'ghijhghi', 'ghij', ',', 'gg', 'f', 'fe', 'df',\n",
       "       'edc', 'c', 'gfe', 'd', 'gfgf', 'ed', 'dc', 'gfgfe', 'ghjih', 'gf',\n",
       "       'hih', 'k', 'ji', ':', 'hj', 'fh', 'hgf', 'ef', 'jk', '::h+', 'kl',\n",
       "       'hji', 'ge', 'de', 'efe', 'dh', '', 'efgh', 'fd', 'efg', 'cd',\n",
       "       'ihg', 'hd', 'c3', 'ehg', 'fg', 'ihi', 'fgfe', 'ikj', 'f3', 'fgf',\n",
       "       'fghg', 'ghg', 'ded', 'ihgfe', 'hk', 'klk', 'dfe', 'fgh', 'hjig',\n",
       "       'gji', 'eg', 'ede', 'ce', 'ghi', 'hf', 'ffe', 'dfd', 'ijkji',\n",
       "       'hijh', 'jh', 'fef', 'eed', 'ggf', 'gffe', 'def', 'fed', 'cdf',\n",
       "       'defd', 'ixdhi', 'dg', 'dhi', 'jih', 'egh', 'gfh', 'ixhi', 'hjih',\n",
       "       'ixi', 'ixfhihg', 'hjk', 'edfgh', 'ixgi', 'jji', 'ijk', 'hiji',\n",
       "       'jihgh', 'defedc', 'gfdefg', 'jkji', 'hegh', 'gj', 'cf', 'eghd',\n",
       "       'edffd', 'hgfghgfed', 'cg', 'defdcd', 'fhg', 'hjji', 'ig', 'hhg',\n",
       "       'hgg', 'jjk', 'fhf', 'hihg', 'fi', 'ghgg', 'gk', 'jkj', 'gihg',\n",
       "       'fhhg', 'gi', 'a', 'hihghihghgfefggf', 'eghij', 'gih', 'z', 'fedg',\n",
       "       'ixhij', 'gfdc', 'fixhihg', '::z', 'cb3', 'kj', 'cb4', 'hig', 'l',\n",
       "       'jij', 'gfg', 'eefeg', 'gheg', 'gghhghij', 'jjiggfhge',\n",
       "       'ghgjjghgee', 'ghgjihihghge', 'efehhgghgfde', 'egfgeegfdegfde',\n",
       "       'jj', 'ee', 'dfde', 'egf', 'egfd', 'iijkjh', 'jjghfdg', 'egfdf',\n",
       "       'jjghffdgeeced', 'eedffedgfhgiijhgf', 'ff', 'fdg', 'fefed',\n",
       "       'jihih', 'defe', 'cdc', 'bc', 'eij', 'ihfhhi', 'gijighgfefgh',\n",
       "       'fj', 'hgfe', 'gfggf', 'fec', 'igf', 'm', 'jijihgf', 'hgfg',\n",
       "       'z0c2', 'kjh', 'ddc', 'exed', 'exde', 'exffe', 'jjh', 'dchihgff',\n",
       "       'exe', 'iih', 'gfed', 'giih', 'ggh', 'exdfecded', 'dhhg', 'fedcd',\n",
       "       'kkj', 'jkk', 'dhg', 'kjkjihgf', 'exee', 'exedc', 'exeed',\n",
       "       'fghdcf', 'exedcb', 'excded', 'exefgfedd', 'ccd', 'gxgfg', 'gyhg',\n",
       "       'ixhig', 'ix', 'ghhg', 'hghj', 'hge', 'gghjih', 'hghih', 'kji',\n",
       "       'ghgfg', 'fge', 'hh', 'efed', 'dhgf', 'ghde', 'hgh', 'gd', 'dedcd',\n",
       "       'gfef', 'fhi', 'dee', 'ghih', 'dcdef', 'dedc', 'fede', 'eff',\n",
       "       'ghihg', 'edggd', 'defed', 'ixghi', 'ghf', 'f0gh', 'ghggf', 'jihg',\n",
       "       'ghiih', 'gjjihg', 'ghihi', 'ddfd', 'b', 'cb', 'ijhg', 'eh', 'fc',\n",
       "       'cefed', 'dhig', 'cde', 'hgfed', 'dfddc', 'hgfghghi', 'hgge',\n",
       "       'efede', 'hghfg', 'fefgfg', 'dfdefggf', 'fefggf', 'hghgf',\n",
       "       'dfdcded', 'cdfef', 'hghggf', 'hiih', 'hghgh', 'gefd', 'dfdcdef',\n",
       "       'ghj', 'eghj', ';3', ';4', ';1', 'gfgffe', 'ixghihg', 'd,', 'dd',\n",
       "       'eedc', 'ghghgfed', 'ege', 'fed::', 'fe;', 'e:', 'fge;', 'e::',\n",
       "       'hhi::', 'jihg;', 'd:', 'defedc;', 'd::', 'f::', 'f:', 'e;',\n",
       "       'fghihg', 'f,', 'gyg', 'gxihg', 'gxgf', 'ca', 'c2', 'eyf', ';5',\n",
       "       'hijih', 'jihi', ';6', 'kxk', 'ixhihg', 'hijig', 'efghgf', 'fghgf',\n",
       "       'ixjih', 'ixihg', 'gggf', 'ixih', 'efeed', 'jiih', 'igh', 'gfgfed',\n",
       "       'iyi', 'ghijih', 'ixihi', 'kxjk', 'ehih', 'gijf', 'jihijihgf',\n",
       "       'ijihgf', 'efghg', 'efh', 'exd', 'gc', 'iyjkj', 'edcd', 'gxe',\n",
       "       'gxg', 'gfee', 'hgfefghf', 'feg', 'ghgf', 'gag', 'ged', 'hih1',\n",
       "       'fgixhi', 'jjj', 'ghgfef', 'hggfghg', 'egff', 'ghgfh', 'hghfd',\n",
       "       'kxlkj', 'i0j', '[5]', 'f3f', 'c4h', 'hjh', 'c4ghg', 'f3g', 'c4f',\n",
       "       'c3e', 'c4d', 'ixhih', 'c4g', 'c4ggh', 'c4e', 'ixig', 'f3fe',\n",
       "       'ihhg', 'gxhg', 'ghgh', 'f;', 'c:', 'g;', 'cd::'], dtype=object)"
      ]
     },
     "execution_count": 111,
     "metadata": {},
     "output_type": "execute_result"
    }
   ],
   "source": [
    "series.unique()"
   ]
  },
  {
   "cell_type": "code",
   "execution_count": 352,
   "metadata": {},
   "outputs": [],
   "source": [
    "import matplotlib.pyplot as plt\n",
    "import seaborn as sns"
   ]
  },
  {
   "cell_type": "code",
   "execution_count": 353,
   "metadata": {},
   "outputs": [
    {
     "data": {
      "text/html": [
       "<div>\n",
       "<style scoped>\n",
       "    .dataframe tbody tr th:only-of-type {\n",
       "        vertical-align: middle;\n",
       "    }\n",
       "\n",
       "    .dataframe tbody tr th {\n",
       "        vertical-align: top;\n",
       "    }\n",
       "\n",
       "    .dataframe thead th {\n",
       "        text-align: right;\n",
       "    }\n",
       "</style>\n",
       "<table border=\"1\" class=\"dataframe\">\n",
       "  <thead>\n",
       "    <tr style=\"text-align: right;\">\n",
       "      <th></th>\n",
       "      <th>neuma</th>\n",
       "      <th>len</th>\n",
       "    </tr>\n",
       "  </thead>\n",
       "  <tbody>\n",
       "    <tr>\n",
       "      <th>0</th>\n",
       "      <td>e</td>\n",
       "      <td>1</td>\n",
       "    </tr>\n",
       "    <tr>\n",
       "      <th>1</th>\n",
       "      <td>gh</td>\n",
       "      <td>2</td>\n",
       "    </tr>\n",
       "    <tr>\n",
       "      <th>2</th>\n",
       "      <td>h</td>\n",
       "      <td>1</td>\n",
       "    </tr>\n",
       "    <tr>\n",
       "      <th>3</th>\n",
       "      <td>hg</td>\n",
       "      <td>2</td>\n",
       "    </tr>\n",
       "    <tr>\n",
       "      <th>4</th>\n",
       "      <td>hij</td>\n",
       "      <td>3</td>\n",
       "    </tr>\n",
       "  </tbody>\n",
       "</table>\n",
       "</div>"
      ],
      "text/plain": [
       "  neuma  len\n",
       "0     e    1\n",
       "1    gh    2\n",
       "2     h    1\n",
       "3    hg    2\n",
       "4   hij    3"
      ]
     },
     "execution_count": 353,
     "metadata": {},
     "output_type": "execute_result"
    }
   ],
   "source": [
    "df = pd.DataFrame(neumes, columns=['neuma'])\n",
    "df['len'] = df['neuma'].apply(lambda x: len(x))\n",
    "df.head()"
   ]
  },
  {
   "cell_type": "code",
   "execution_count": 354,
   "metadata": {},
   "outputs": [
    {
     "data": {
      "text/html": [
       "<div>\n",
       "<style scoped>\n",
       "    .dataframe tbody tr th:only-of-type {\n",
       "        vertical-align: middle;\n",
       "    }\n",
       "\n",
       "    .dataframe tbody tr th {\n",
       "        vertical-align: top;\n",
       "    }\n",
       "\n",
       "    .dataframe thead th {\n",
       "        text-align: right;\n",
       "    }\n",
       "</style>\n",
       "<table border=\"1\" class=\"dataframe\">\n",
       "  <thead>\n",
       "    <tr style=\"text-align: right;\">\n",
       "      <th></th>\n",
       "      <th>neuma</th>\n",
       "      <th>len</th>\n",
       "      <th>cat</th>\n",
       "    </tr>\n",
       "  </thead>\n",
       "  <tbody>\n",
       "    <tr>\n",
       "      <th>0</th>\n",
       "      <td>e</td>\n",
       "      <td>1</td>\n",
       "      <td>50</td>\n",
       "    </tr>\n",
       "    <tr>\n",
       "      <th>1</th>\n",
       "      <td>gh</td>\n",
       "      <td>2</td>\n",
       "      <td>166</td>\n",
       "    </tr>\n",
       "    <tr>\n",
       "      <th>2</th>\n",
       "      <td>h</td>\n",
       "      <td>1</td>\n",
       "      <td>210</td>\n",
       "    </tr>\n",
       "    <tr>\n",
       "      <th>3</th>\n",
       "      <td>hg</td>\n",
       "      <td>2</td>\n",
       "      <td>214</td>\n",
       "    </tr>\n",
       "    <tr>\n",
       "      <th>4</th>\n",
       "      <td>hij</td>\n",
       "      <td>3</td>\n",
       "      <td>242</td>\n",
       "    </tr>\n",
       "  </tbody>\n",
       "</table>\n",
       "</div>"
      ],
      "text/plain": [
       "  neuma  len  cat\n",
       "0     e    1   50\n",
       "1    gh    2  166\n",
       "2     h    1  210\n",
       "3    hg    2  214\n",
       "4   hij    3  242"
      ]
     },
     "execution_count": 354,
     "metadata": {},
     "output_type": "execute_result"
    }
   ],
   "source": [
    "df['cat'] = df['neuma'].astype('category').cat.codes\n",
    "df.head()"
   ]
  },
  {
   "cell_type": "code",
   "execution_count": 358,
   "metadata": {},
   "outputs": [
    {
     "data": {
      "image/png": "[encoded data removed]",
      "text/plain": [
       "<Figure size 1152x576 with 1 Axes>"
      ]
     },
     "metadata": {},
     "output_type": "display_data"
    }
   ],
   "source": [
    "sns.set(rc={'figure.figsize':(16,8)})\n",
    "df2 = df[df['len'] < 3]\n",
    "sns.countplot(x='neuma', data=df)\n",
    "#sns.distplot(df2['cat'])\n",
    "plt.show()"
   ]
  },
  {
   "cell_type": "code",
   "execution_count": 50,
   "metadata": {},
   "outputs": [
    {
     "data": {
      "text/plain": [
       "array(['e', 'gh', 'h', 'hg', 'ih', 'hi', 'g', 'j', 'i', 'ij', 'gg', 'f',\n",
       "       'fe', 'df', 'c', 'd', 'gf', 'ed', 'dc', 'k', 'ji', 'hj', 'fh',\n",
       "       'ef', 'c4', 'jk', 'kl', 'ge', 'de', 'dh', '', 'fd', 'cd', 'hd',\n",
       "       'fg', 'hk', 'eg', 'ce', 'hf', 'jh', 'dg', 'ix', 'he', 'gj', 'cf',\n",
       "       'cg', 'ig', 'fi', 'gk', 'gi', 'a', 'c3', 'Z', 'kj', 'l', 'ee',\n",
       "       'jj', 'ff', 'bc', 'fj', 'g!', 'm', 'j!', 'd!', 'z', 'i!', 'h!',\n",
       "       'EC', 'k!', 'f ', 'k ', 'g ', 'e ', ' h', 'h ', 'd ', 'b', 'cb',\n",
       "       'eh', 'hh', 'dd', 'iH', 'G', 'JI', ' ', 'ca', 'jf', 'gc', 'I', 'E',\n",
       "       'H', 'F', 'dr', 'fr', 'hr', 'gr', 'jr'], dtype=object)"
      ]
     },
     "execution_count": 50,
     "metadata": {},
     "output_type": "execute_result"
    }
   ],
   "source": [
    "df2['neuma'].unique()"
   ]
  },
  {
   "cell_type": "code",
   "execution_count": 383,
   "metadata": {},
   "outputs": [],
   "source": [
    "cursor.execute(\"\"\"\n",
    "                SELECT gabc \n",
    "                FROM gregobase_chants\n",
    "                WHERE office_part LIKE \\'hy\\'\n",
    "                LIMIT 5;\n",
    "               \"\"\")"
   ]
  },
  {
   "cell_type": "code",
   "execution_count": 384,
   "metadata": {},
   "outputs": [],
   "source": [
    "mbu = cursor.fetchone()"
   ]
  },
  {
   "cell_type": "code",
   "execution_count": 385,
   "metadata": {},
   "outputs": [
    {
     "data": {
      "text/plain": [
       "('\"(c4) TE(e) De(gh)um(h) lau(hg)d\\\\u00e1(h!iwj)mus:(ih..) *(;) te(e) D\\\\u00f3(gh)mi(h)num(hi) con(g\\')fi(j)t\\\\u00e9(ih)mur.(g.) (::) Te(j) ae(j)t\\\\u00e9r(i\\')num(h) Pa(iji)trem(h.) (;) o(e)mnis(gh) ter(h)ra(hi) ve(g\\')ne(j)r\\\\u00e1(ih)tur.(g.) (::) Ti(j)bi(j) o(i\\')mnes(h) An(ij)ge(i)li,(h.) (;) ti(e)bi(gh) cae(h)li(h) et(h) u(h)ni(h)v\\\\u00e9r(h)sae(hi) po(g\\')te(j)st\\\\u00e1(ih)tes:(g.) (::) Ti(j)bi(j) Ch\\\\u00e9(j)ru(j)bim(i\\') et(h) S\\\\u00e9(ij)ra(i)phim(h.) (;) in(e)ces(gh)s\\\\u00e1(h)bi(h)li(h) vo(hi)ce(g\\') pro(j)cl\\\\u00e1(ih)mant:(g.) (::) Sanc(g.h!iw!jvHGhi)tus:(h.) (::) Sanc(g.h!iw!jvHGhi)tus:(h.) (::) Sanc(j)tus(i) D\\\\u00f3(h)mi(h)nus(hi) De(g\\')us(j) S\\\\u00e1(ih)ba(h)oth.(g.) (::) Ple(j)ni(j) sunt(j) cae(j)li(i) et(h) ter(iji)ra(h.) (;) ma(e)je(gh)st\\\\u00e1(h)tis(h) gl\\\\u00f3(hi)ri(g\\')ae(j) tu(ih)ae.(g.) (::) Te(j) glo(i\\')ri(h)\\\\u00f3(iji)sus(h.) (;) A(h)po(h)sto(hi)l\\\\u00f3(g\\')rum(j) cho(ih)rus:(g.) (::) Te(j) Pro(i\\')phe(h)t\\\\u00e1(iji)rum(h.) (;) lau(h)d\\\\u00e1(hi)bi(g\\')lis(j) n\\\\u00fa(ih)me(h)rus:(g.) (::) Te(j) M\\\\u00e1r(j)tyr(j)um(j) can(i\\')di(h)d\\\\u00e1(iji)tus(h.) (;) lau(hi)dat(g\\') ex(j)\\\\u00e9r(ih)ci(h)tus.(g.) (::) Te(j) per(j) or(j)bem(i\\') ter(h)r\\\\u00e1(iji)rum(h.) (;) sanc(e)ta(gh) con(h)fi(h)t\\\\u00e9(hi)tur(g\\') Ec(j)cl\\\\u00e9(ih)si(h)a:(g.) (::) Pa(g.h!iwj)trem(hi) im(j)m\\\\u00e9n(i)sae(hi) ma(g\\')je(j)st\\\\u00e1(ih)tis:(g.) (::) Ve(j)ne(j)r\\\\u00e1n(j)dum(j) tu(i\\')um(h) ve(iji)rum,(h.) (;) et(h) \\\\u00fa(hi)ni(g\\')cum(j) F\\\\u00ed(ih)li(h)um:(g.) (::) Sanc(g.h!iwj)tum(hi) quo(j)que(i.) (,) Pa(h)r\\\\u00e1(hg)cli(h)tum(hi) Sp\\\\u00ed(g)ri(g)tum.(e.) (::) Tu(h) Rex(h) gl\\\\u00f3(hg)ri(h)ae,(hi) (,) Chri(gg)ste.(e.) (::) Tu(e) Pa(gh)tris(h.) (,) sem(h)pi(h)t\\\\u00e9r(hi)nus(g\\') es(j) F\\\\u00ed(ih)li(h)us.(g.) (::) Tu(j) ad(j) li(j)be(j)r\\\\u00e1n(j)dum(j) su(j)sce(j)pt\\\\u00fa(i\\')rus(h) h\\\\u00f3(ij)mi(i)nem,(h.) (;) non(e) ho(gh)ru(h)\\\\u00ed(h)sti(h) V\\\\u00edr(hi)gi(g\\')nis(j) \\\\u00fa(ih)te(h)rum.(g.) (::) Tu(j) de(j)v\\\\u00ed(j)cto(j) mor(j)tis(i\\') a(h)c\\\\u00fa(ij)le(i)o,(h.) (;) a(e)pe(gh)ru(h)\\\\u00ed(h)sti(h) cre(h)d\\\\u00e9n(hi)ti(h)bus(h) re(hi)gna(g\\') cae(j)l\\\\u00f3(ih)rum.(g.) (::) Tu(j) ad(j) d\\\\u00e9x(j)te(j)ram(j) De(i\\')i(h) se(iji)des,(h.) (;) in(h) gl\\\\u00f3(hi)ri(g\\')a(j) Pa(ih)tris.(g.) (::) Ju(g.h!iwj)dex(hi) cr\\\\u00e9(j)de(i)ris(h.) (;) es(hg)se(h) ven(hi)t\\\\u00fa(g.)rus.(e.) (::) Te(e) er(gh~)go(h) qua\\\\u00e9(h)su(h)mus,(h.) (,) tu(h)is(h) f\\\\u00e1(h\\')mu(g)lis(h) s\\\\u00fab(ij)ve(i)ni,(h.) (;) quos(e) pre(gh)ti(h)\\\\u00f3(h)so(h) s\\\\u00e1n(i)gui(h)ne(hg) re(h)de(hi)m\\\\u00ed(g.)sti.(e.) (::) AE(f)t\\\\u00e9r(fe)na(df) fac(evDC.) (;) cum(c) sanc(e)tis(f) tu(g)is(g) in(g) gl\\\\u00f3(g)ri(g)a(g) nu(h)me(f)r\\\\u00e1(gvFE)ri.(e.) (::) Sal(c)vum(df) fac(f) p\\\\u00f3(f)pu(f)lum(f) tu(f)um(f) D\\\\u00f3(d)mi(f)ne,(evDC.) (;) et(c) b\\\\u00e9(df)ne(f)dic(f) he(f)re(fe)di(d)t\\\\u00e1(f)ti(gh) tu(gvFE)ae.(e.) (::) Et(f) re(fe)ge(d) e(f)os,(evDC.) (;) et(c) ex(df)t\\\\u00f3l(fe)le(d) il(g)los(g.) (,) us(g)que(g) in(h) ae(f)t\\\\u00e9r(gvFE)num.(e.) (::) Per(e) s\\\\u00edn(gh)gu(h)los(hg) di(h!iwj)es,(ih..) (;) be(h)ne(hg)d\\\\u00ed(h)ci(hi)mus(g.) te.(e.) (::) Et(e) lau(gh~)d\\\\u00e1(h)mus(h) no(h)men(h) tu(h\\')um(g) in(h) sa\\\\u00e9(ij)cu(i)lum,(h.) (;) et(h) in(h) sa\\\\u00e9(hg)cu(h)lum(hi) sa\\\\u00e9(g)cu(g)li.(e.) (::) Di(e)gn\\\\u00e1(gh)re(h) D\\\\u00f3(h)mi(h)ne(h\\') di(g)e(h) i(iji)sto(h.) (;) si(f)ne(gh) pec(h)c\\\\u00e1(h)to(h) nos(hg) cu(h)sto(hi)d\\\\u00ed(g.)re.(e.) (::) Mi(e)se(gh)r\\\\u00e9(h)re(h\\') no(g)stri(h) D\\\\u00f3(ij)mi(i)ne,(h.) (;) mi(h)se(hg)r\\\\u00e9(h)re(hi) no(g.)stri.(e.) (::) Fi(e)at(gh) mi(h)se(h)ri(h)c\\\\u00f3r(h)di(h)a(h) tu(h)a(h) D\\\\u00f3(h\\')mi(g)ne(h) su(ij)per(i) nos,(h.) (;) que(e)m\\\\u00e1d(gh~)mo(h)dum(h) spe(h)r\\\\u00e1(hg)vi(h)mus(hi) in(g.) te.(e.) (::) In(c) te(df) D\\\\u00f3(fe)mi(d)ne(f) spe(gh)r\\\\u00e1(gf/gf)vi:(ed..) (;) non(c) con(df)f\\\\u00fan(fe)dar(dc) in(f) ae(gh)t\\\\u00e9r(gfgvFE)num.(e.) (::)\"',)"
      ]
     },
     "execution_count": 385,
     "metadata": {},
     "output_type": "execute_result"
    }
   ],
   "source": [
    "mbu"
   ]
  },
  {
   "cell_type": "code",
   "execution_count": 386,
   "metadata": {},
   "outputs": [
    {
     "name": "stdout",
     "output_type": "stream",
     "text": [
      "(c4)(e)(gh)(h)(hg)(hij)(ih)(;)(e)(gh)(h)(hi)(g)(j)(ih)(g)(::)(j)(j)(i)(h)(iji)(h)(;)(e)(gh)(h)(hi)(g)(j)(ih)(g)(::)(j)(j)(i)(h)(ij)(i)(h)(;)(e)(gh)(h)(h)(h)(h)(h)(h)(hi)(g)(j)(ih)(g)(::)(j)(j)(j)(j)(i)(h)(ij)(i)(h)(;)(e)(gh)(h)(h)(h)(hi)(g)(j)(ih)(g)(::)(ghijhghi)(h)(::)(ghijhghi)(h)(::)(j)(i)(h)(h)(hi)(g)(j)(ih)(h)(g)(::)(j)(j)(j)(j)(i)(h)(iji)(h)(;)(e)(gh)(h)(h)(hi)(g)(j)(ih)(g)(::)(j)(i)(h)(iji)(h)(;)(h)(h)(hi)(g)(j)(ih)(g)(::)(j)(i)(h)(iji)(h)(;)(h)(hi)(g)(j)(ih)(h)(g)(::)(j)(j)(j)(j)(i)(h)(iji)(h)(;)(hi)(g)(j)(ih)(h)(g)(::)(j)(j)(j)(i)(h)(iji)(h)(;)(e)(gh)(h)(h)(hi)(g)(j)(ih)(h)(g)(::)(ghij)(hi)(j)(i)(hi)(g)(j)(ih)(g)(::)(j)(j)(j)(j)(i)(h)(iji)(h)(;)(h)(hi)(g)(j)(ih)(h)(g)(::)(ghij)(hi)(j)(i)(,)(h)(hg)(h)(hi)(g)(g)(e)(::)(h)(h)(hg)(h)(hi)(,)(gg)(e)(::)(e)(gh)(h)(,)(h)(h)(hi)(g)(j)(ih)(h)(g)(::)(j)(j)(j)(j)(j)(j)(j)(j)(i)(h)(ij)(i)(h)(;)(e)(gh)(h)(h)(h)(hi)(g)(j)(ih)(h)(g)(::)(j)(j)(j)(j)(j)(i)(h)(ij)(i)(h)(;)(e)(gh)(h)(h)(h)(h)(hi)(h)(h)(hi)(g)(j)(ih)(g)(::)(j)(j)(j)(j)(j)(i)(h)(iji)(h)(;)(h)(hi)(g)(j)(ih)(g)(::)(ghij)(hi)(j)(i)(h)(;)(hg)(h)(hi)(g)(e)(::)(e)(gh)(h)(h)(h)(h)(,)(h)(h)(h)(g)(h)(ij)(i)(h)(;)(e)(gh)(h)(h)(h)(i)(h)(hg)(h)(hi)(g)(e)(::)(f)(fe)(df)(edc)(;)(c)(e)(f)(g)(g)(g)(g)(g)(g)(h)(f)(gfe)(e)(::)(c)(df)(f)(f)(f)(f)(f)(f)(d)(f)(edc)(;)(c)(df)(f)(f)(f)(fe)(d)(f)(gh)(gfe)(e)(::)(f)(fe)(d)(f)(edc)(;)(c)(df)(fe)(d)(g)(g)(,)(g)(g)(h)(f)(gfe)(e)(::)(e)(gh)(h)(hg)(hij)(ih)(;)(h)(hg)(h)(hi)(g)(e)(::)(e)(gh)(h)(h)(h)(h)(h)(g)(h)(ij)(i)(h)(;)(h)(h)(hg)(h)(hi)(g)(g)(e)(::)(e)(gh)(h)(h)(h)(h)(g)(h)(iji)(h)(;)(f)(gh)(h)(h)(h)(hg)(h)(hi)(g)(e)(::)(e)(gh)(h)(h)(g)(h)(ij)(i)(h)(;)(h)(hg)(h)(hi)(g)(e)(::)(e)(gh)(h)(h)(h)(h)(h)(h)(h)(h)(h)(g)(h)(ij)(i)(h)(;)(e)(gh)(h)(h)(h)(hg)(h)(hi)(g)(e)(::)(c)(df)(fe)(d)(f)(gh)(gfgf)(ed)(;)(c)(df)(fe)(dc)(f)(gh)(gfgfe)(e)(::)\n"
     ]
    }
   ],
   "source": [
    "#chant = [f'({x})' for x in mbu[0]]\n",
    "chant = find_all_neumes(mbu[0])\n",
    "chant = [f'({x})' for x in chant]\n",
    "print(''.join(chant))"
   ]
  },
  {
   "cell_type": "code",
   "execution_count": 339,
   "metadata": {},
   "outputs": [
    {
     "data": {
      "text/plain": [
       "'i'"
      ]
     },
     "execution_count": 339,
     "metadata": {},
     "output_type": "execute_result"
    }
   ],
   "source": [
    "#re.sub('\\([^\\(\\)]\\)','(ciao)','()')\n",
    "re.sub('\\\\\\\\r\\\\\\\\n','','i\\\\r\\\\n')"
   ]
  },
  {
   "cell_type": "code",
   "execution_count": 377,
   "metadata": {},
   "outputs": [
    {
     "data": {
      "text/plain": [
       "'a'"
      ]
     },
     "execution_count": 377,
     "metadata": {},
     "output_type": "execute_result"
    }
   ],
   "source": [
    "re.sub('[(:\\?)(::)]','','a')"
   ]
  },
  {
   "cell_type": "code",
   "execution_count": 38,
   "metadata": {},
   "outputs": [
    {
     "data": {
      "text/plain": [
       "b'\\\\u00'"
      ]
     },
     "execution_count": 38,
     "metadata": {},
     "output_type": "execute_result"
    }
   ],
   "source": [
    "a = b'\\u00'\n",
    "a"
   ]
  },
  {
   "cell_type": "code",
   "execution_count": 45,
   "metadata": {},
   "outputs": [
    {
     "data": {
      "text/plain": [
       "b'\\xc3\\xb2'"
      ]
     },
     "execution_count": 45,
     "metadata": {},
     "output_type": "execute_result"
    }
   ],
   "source": [
    "(u'ò').encode()"
   ]
  },
  {
   "cell_type": "code",
   "execution_count": 79,
   "metadata": {},
   "outputs": [
    {
     "data": {
      "text/plain": [
       "'\\x00f3'"
      ]
     },
     "execution_count": 79,
     "metadata": {},
     "output_type": "execute_result"
    }
   ],
   "source": [
    "b'\\00f3'.decode('utf-8')"
   ]
  },
  {
   "cell_type": "code",
   "execution_count": 66,
   "metadata": {},
   "outputs": [
    {
     "data": {
      "text/plain": [
       "'ò'"
      ]
     },
     "execution_count": 66,
     "metadata": {},
     "output_type": "execute_result"
    }
   ],
   "source": [
    "(b'\\xc3\\xb2').decode()"
   ]
  },
  {
   "cell_type": "code",
   "execution_count": 86,
   "metadata": {},
   "outputs": [
    {
     "data": {
      "text/plain": [
       "b'@'"
      ]
     },
     "execution_count": 86,
     "metadata": {},
     "output_type": "execute_result"
    }
   ],
   "source": [
    "(u'@').encode('utf8')"
   ]
  },
  {
   "cell_type": "code",
   "execution_count": 91,
   "metadata": {},
   "outputs": [
    {
     "data": {
      "text/plain": [
       "b'\\x00\\xf2'"
      ]
     },
     "execution_count": 91,
     "metadata": {},
     "output_type": "execute_result"
    }
   ],
   "source": [
    "'\\u00f2'.encode('utf-16be')"
   ]
  },
  {
   "cell_type": "code",
   "execution_count": 112,
   "metadata": {},
   "outputs": [
    {
     "data": {
      "text/plain": [
       "'á'"
      ]
     },
     "execution_count": 112,
     "metadata": {},
     "output_type": "execute_result"
    }
   ],
   "source": [
    "chr(ord('\\u00e1'))"
   ]
  },
  {
   "cell_type": "code",
   "execution_count": 103,
   "metadata": {},
   "outputs": [
    {
     "data": {
      "text/plain": [
       "'(f3) 1. ( ) Lau(e)dá(f)te(h) Dó(h)mi(h//)num(h) in(h) sanc(h)tis(h) <b>e</b>(i hr)jus :(h.) *(:) lau(h)dá(h)te(h) e(h)um(h) in(h) fir(h)ma(h)mén(h)to(h) vir(h)tú(h)<i>tis</i>(g) <b>e</b>(e fr)jus.(f.) (::) <i>Flexa:</i> b{e}(h)ne(h)so(h)nán(h)ti(fr)bus :(f.) +(h) (h) (::)'"
      ]
     },
     "execution_count": 103,
     "metadata": {},
     "output_type": "execute_result"
    }
   ],
   "source": [
    "a = \"(f3) 1. ( ) Lau(e)d\\u00e1(f)te(h) D\\u00f3(h)mi(h//)num(h) in(h) sanc(h)tis(h) <b>e</b>(i hr)jus :(h.) *(:) lau(h)d\\u00e1(h)te(h) e(h)um(h) in(h) fir(h)ma(h)m\\u00e9n(h)to(h) vir(h)t\\u00fa(h)<i>tis</i>(g) <b>e</b>(e fr)jus.(f.) (::) <i>Flexa:</i> b{e}(h)ne(h)so(h)n\\u00e1n(h)ti(fr)bus :(f.) +(h) (h) (::)\"\n",
    "\n",
    "b = ''.join([x for x in a])\n",
    "b\n",
    "\n"
   ]
  },
  {
   "cell_type": "code",
   "execution_count": 119,
   "metadata": {},
   "outputs": [
    {
     "data": {
      "text/plain": [
       "'ú'"
      ]
     },
     "execution_count": 119,
     "metadata": {},
     "output_type": "execute_result"
    }
   ],
   "source": [
    "chr(ord('\\u00fa'))"
   ]
  },
  {
   "cell_type": "code",
   "execution_count": 128,
   "metadata": {},
   "outputs": [
    {
     "data": {
      "text/plain": [
       "b'\\xc3\\xba'"
      ]
     },
     "execution_count": 128,
     "metadata": {},
     "output_type": "execute_result"
    }
   ],
   "source": [
    "a = '\\u00fa'.encode()\n",
    "a"
   ]
  },
  {
   "cell_type": "code",
   "execution_count": 129,
   "metadata": {},
   "outputs": [
    {
     "data": {
      "text/plain": [
       "'ú'"
      ]
     },
     "execution_count": 129,
     "metadata": {},
     "output_type": "execute_result"
    }
   ],
   "source": [
    "b'\\xc3\\xba'.decode(\"utf-8\", \"replace\")"
   ]
  }
 ],
 "metadata": {
  "kernelspec": {
   "display_name": "Python 3",
   "language": "python",
   "name": "python3"
  },
  "language_info": {
   "codemirror_mode": {
    "name": "ipython",
    "version": 3
   },
   "file_extension": ".py",
   "mimetype": "text/x-python",
   "name": "python",
   "nbconvert_exporter": "python",
   "pygments_lexer": "ipython3",
   "version": "3.7.1"
  }
 },
 "nbformat": 4,
 "nbformat_minor": 2
}
